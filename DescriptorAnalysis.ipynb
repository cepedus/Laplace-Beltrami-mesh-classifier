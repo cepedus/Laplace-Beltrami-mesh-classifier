{
 "cells": [
  {
   "cell_type": "code",
   "execution_count": 56,
   "metadata": {},
   "outputs": [],
   "source": [
    "import numpy as np\n",
    "import matplotlib.pyplot as plt\n",
    "import os\n",
    "import glob\n",
    "from tqdm import tqdm\n",
    "from itertools import combinations\n",
    "from scipy.spatial.distance import cdist\n",
    "import seaborn as sns\n",
    "from sklearn.manifold import TSNE\n",
    "from sklearn.decomposition import PCA"
   ]
  },
  {
   "cell_type": "markdown",
   "metadata": {},
   "source": [
    "### Parameters"
   ]
  },
  {
   "cell_type": "code",
   "execution_count": 3,
   "metadata": {},
   "outputs": [],
   "source": [
    "# Seed for random sampling (Rustamov)\n",
    "seed_ = 42\n",
    "\n",
    "# Paths for embedding files and mesh files\n",
    "embeds_path = './results'\n",
    "shapes_path = './models'\n",
    "\n",
    "# Number of histograms and sample proportion for each region (Rustamov)\n",
    "m = 5\n",
    "prop = 0.3\n",
    "\n",
    "# Type of metric for computing distances\n",
    "metric_ = 'euclidean'"
   ]
  },
  {
   "cell_type": "markdown",
   "metadata": {},
   "source": [
    "### File & data manipulation functions"
   ]
  },
  {
   "cell_type": "code",
   "execution_count": 70,
   "metadata": {},
   "outputs": [],
   "source": [
    "def name(filename, eigs=False):\n",
    "    \"\"\"\n",
    "    Returns shape name from a filepath\n",
    "    \"\"\"\n",
    "    if eigs:\n",
    "        return os.path.split(filename)[1].split('.')[0]\n",
    "    else:\n",
    "        return os.path.split(filename)[1][:-4].split('.')[0]\n",
    "\n",
    "def missing(embeds, shapes):\n",
    "    \"\"\"\n",
    "    Given a list of embedding filenames and a list of shapes filenames, returns a list of missing elements between those two (symmetric difference)\n",
    "    \"\"\"\n",
    "    shapes_names = [name(i, eigs=False) for i in shapes]\n",
    "    embeds_names = [name(i, eigs=True) for i in embeds]\n",
    "    misses = list(set(shapes_names).symmetric_difference(set(embeds_names)))\n",
    "    return sorted(misses)\n",
    "\n",
    "def dim(filename):\n",
    "    \"\"\"\n",
    "    Given an embedding filename, returns how many eigs were supposedly computed\n",
    "    \"\"\"\n",
    "    return int(os.path.split(filename)[1][:-4].split('.')[-2])\n",
    "\n",
    "def matrixGPS(filename):\n",
    "    \"\"\"\n",
    "    Returns GPS matrix read from a file\n",
    "    \"\"\"\n",
    "    GPS = []\n",
    "    with open(filename, 'r') as file:\n",
    "        for l in file:\n",
    "            values = l.strip().split()\n",
    "            v = [float(i) for i in values]\n",
    "            assert(len(v) == dim(filename)), 'Wrong dimension in' + filename\n",
    "            GPS.append(v)\n",
    "    return np.array(GPS)\n",
    "\n",
    "def shapeDNA(filename):\n",
    "    \"\"\"\n",
    "    Returns ShapeDNA vector read from a file\n",
    "    \"\"\"\n",
    "    dna = []\n",
    "    with open(filename, 'r') as file:\n",
    "        for l in file:\n",
    "            dna.append(float(l.strip()))\n",
    "    assert(len(dna) == dim(filename)), 'Wrong dimension in' + filename\n",
    "    return np.array(dna)\n",
    "    \n",
    "def regions(GPS):\n",
    "    \"\"\"\n",
    "    Returns region indexes (0 to m - 1) for each vertex in GPS\n",
    "    \"\"\"\n",
    "    global m\n",
    "    distances = [np.linalg.norm(v) for v in GPS]\n",
    "    d_min = min(distances)\n",
    "    delta = (max(distances) - d_min) / m\n",
    "    \n",
    "    regs = [int((d - d_min) // delta) for d in distances]\n",
    "    return regs\n",
    "\n",
    "def samples(regions, m1, m2):\n",
    "    \"\"\"\n",
    "    Computes 2 randomly sampled point indexes from regions m1 and m2, size prop% \n",
    "    \"\"\"\n",
    "    global m\n",
    "    global prop\n",
    "    assert(m1 < m and m2 < m), 'Regions given are not valid'\n",
    "    np.random.seed(seed_)\n",
    "    points_m1 = (np.array(regions) == m1).nonzero()[0]\n",
    "    points_m2 = (np.array(regions) == m2).nonzero()[0]\n",
    "    \n",
    "\n",
    "    sample_m1 = np.random.choice(points_m1, int(prop * len(points_m1)))\n",
    "    sample_m2 = np.random.choice(points_m2, int(prop * len(points_m2)))\n",
    "    return sample_m1, sample_m2\n",
    "\n",
    "def distances(GPS, regions, m1, m2, metric='euclidean'):\n",
    "    \"\"\"\n",
    "    Computes pair-wise distances between sampled points of GPS for regions m1 and m2\n",
    "    \"\"\"\n",
    "    m1_indices, m2_indices = samples(regions, m1, m2)\n",
    "    GPS_m1 = GPS[m1_indices]\n",
    "    GPS_m2 = GPS[m2_indices]\n",
    "    return cdist(GPS_m1, GPS_m2, metric=metric).flatten()\n",
    "\n",
    "def myargwhere(l, value):\n",
    "    return (np.array(l) == value).nonzero()[0]\n",
    "\n",
    "def dim_reduction(X, method='tsne'):\n",
    "    \"\"\"\n",
    "    Wrapper for different dimensionality reduction methods to plot found descriptors\n",
    "    \"\"\"\n",
    "    if method == 'tsne':\n",
    "        tsne_model = TSNE(n_components=2, perplexity=40, n_iter=300)\n",
    "        coords_2d = tsne_model.fit_transform(X)\n",
    "        return coords_2d[:, 0], coords_2d[:, 1]\n",
    "    elif method == 'pca':\n",
    "        pca_model = PCA(n_components=2)\n",
    "        coords_2d = pca_model.fit_transform(X)\n",
    "        return coords_2d[:, 0], coords_2d[:, 1]\n",
    "    else:\n",
    "        raise Exception('Method is not valid')\n",
    "        \n",
    "def scatter_annotated(x, y, labels):\n",
    "    fig, ax = plt.subplots(figsize=(10,10))\n",
    "    for g in range(len(np.unique(labels))):\n",
    "        label_i = np.unique(labels)[g]\n",
    "        i = myargwhere(labels, label_i)\n",
    "        ax.scatter(x[i], y[i], label=label_i)\n",
    "    ax.legend()\n",
    "    plt.show()"
   ]
  },
  {
   "cell_type": "markdown",
   "metadata": {},
   "source": [
    "### Data importing"
   ]
  },
  {
   "cell_type": "code",
   "execution_count": 71,
   "metadata": {
    "scrolled": true
   },
   "outputs": [
    {
     "name": "stdout",
     "output_type": "stream",
     "text": [
      "151 embeddings missing :\n",
      "\n",
      "camel-01\n",
      "camel-02\n",
      "camel-03\n",
      "camel-05\n",
      "camel-07\n",
      "camel-08\n",
      "camel-09\n",
      "camel-10\n",
      "camel-collapse-02\n",
      "camel-collapse-05\n",
      "camel-collapse-07\n",
      "camel-collapse-09\n",
      "camel-collapse-11\n",
      "camel-collapse-12\n",
      "camel-collapse-13\n",
      "camel-collapse-14\n",
      "camel-collapse-15\n",
      "camel-collapse-16\n",
      "camel-collapse-18\n",
      "camel-collapse-20\n",
      "camel-collapse-22\n",
      "camel-collapse-23\n",
      "camel-collapse-30\n",
      "camel-collapse-33\n",
      "camel-collapse-37\n",
      "camel-collapse-41\n",
      "camel-collapse-49\n",
      "camel-collapse-52\n",
      "camel-gallop-02\n",
      "camel-gallop-04\n",
      "camel-gallop-05\n",
      "camel-gallop-07\n",
      "camel-gallop-09\n",
      "camel-gallop-11\n",
      "camel-gallop-16\n",
      "camel-gallop-21\n",
      "camel-gallop-22\n",
      "camel-gallop-24\n",
      "camel-gallop-25\n",
      "camel-gallop-26\n",
      "camel-gallop-28\n",
      "camel-gallop-29\n",
      "camel-gallop-33\n",
      "camel-gallop-35\n",
      "camel-gallop-40\n",
      "camel-gallop-41\n",
      "camel-gallop-44\n",
      "camel-gallop-45\n",
      "camel-gallop-46\n",
      "camel-gallop-48\n",
      "cat-02\n",
      "cat-03\n",
      "cat-04\n",
      "cat-07\n",
      "elephant-01\n",
      "elephant-02\n",
      "elephant-03\n",
      "elephant-04\n",
      "elephant-05\n",
      "elephant-06\n",
      "elephant-07\n",
      "elephant-08\n",
      "elephant-09\n",
      "elephant-10\n",
      "face-02-cry\n",
      "face-03-fury\n",
      "face-04-grin\n",
      "face-06-rage\n",
      "face-07-sad\n",
      "face-reference\n",
      "flam-01\n",
      "flam-02\n",
      "flam-03\n",
      "flam-04\n",
      "flam-05\n",
      "flam-06\n",
      "flam-07\n",
      "flam-08\n",
      "flam-09\n",
      "flam-10\n",
      "flam-reference\n",
      "head-01-anger\n",
      "head-02-cry\n",
      "head-05-laugh\n",
      "head-06-rage\n",
      "horse-01\n",
      "horse-02\n",
      "horse-03\n",
      "horse-06\n",
      "horse-08\n",
      "horse-10\n",
      "horse-collapose-03\n",
      "horse-collapose-07\n",
      "horse-collapose-08\n",
      "horse-collapose-09\n",
      "horse-collapose-15\n",
      "horse-collapose-17\n",
      "horse-collapose-20\n",
      "horse-collapose-22\n",
      "horse-collapose-23\n",
      "horse-collapose-24\n",
      "horse-collapose-26\n",
      "horse-collapose-27\n",
      "horse-collapose-33\n",
      "horse-collapose-38\n",
      "horse-collapose-40\n",
      "horse-collapose-42\n",
      "horse-collapose-44\n",
      "horse-gallop-01\n",
      "horse-gallop-02\n",
      "horse-gallop-03\n",
      "horse-gallop-04\n",
      "horse-gallop-06\n",
      "horse-gallop-07\n",
      "horse-gallop-09\n",
      "horse-gallop-10\n",
      "horse-gallop-12\n",
      "horse-gallop-14\n",
      "horse-gallop-15\n",
      "horse-gallop-16\n",
      "horse-gallop-18\n",
      "horse-gallop-21\n",
      "horse-gallop-22\n",
      "horse-gallop-23\n",
      "horse-gallop-24\n",
      "horse-gallop-25\n",
      "horse-gallop-26\n",
      "horse-gallop-27\n",
      "horse-gallop-28\n",
      "horse-gallop-30\n",
      "horse-gallop-31\n",
      "horse-gallop-33\n",
      "horse-gallop-34\n",
      "horse-gallop-36\n",
      "horse-gallop-38\n",
      "horse-gallop-39\n",
      "horse-gallop-40\n",
      "horse-gallop-42\n",
      "horse-gallop-46\n",
      "horse-gallop-47\n",
      "horse-gallop-48\n",
      "horse-gallop-reference\n",
      "lion-01\n",
      "lion-02\n",
      "lion-03\n",
      "lion-04\n",
      "lion-05\n",
      "lion-06\n",
      "lion-08\n",
      "lion-09\n",
      "lion-reference\n"
     ]
    }
   ],
   "source": [
    "assert(prop <= 1.0 and prop > 0.0), 'Proportion is not valid'\n",
    "embeds = glob.glob(embeds_path + '/*.txt')\n",
    "shapes = glob.glob(shapes_path + './**/*.obj')\n",
    "\n",
    "# Split filename lists by descriptor\n",
    "embeds_gps = []\n",
    "embeds_shapedna = []\n",
    "for i in embeds:\n",
    "    if 'shapeDNA' in i:\n",
    "        embeds_shapedna.append(i)\n",
    "    else:\n",
    "        embeds_gps.append(i)\n",
    "\n",
    "miss = missing(embeds, shapes)\n",
    "print('{} embeddings missing :\\n'.format(len(miss)))\n",
    "print(*miss, sep='\\n')"
   ]
  },
  {
   "cell_type": "markdown",
   "metadata": {},
   "source": [
    "### ShapeDNA"
   ]
  },
  {
   "cell_type": "code",
   "execution_count": 72,
   "metadata": {},
   "outputs": [
    {
     "name": "stdout",
     "output_type": "stream",
     "text": [
      "(187, 12)\n"
     ]
    }
   ],
   "source": [
    "X = []\n",
    "y = []\n",
    "y_simple = []\n",
    "min_d = 20\n",
    "\n",
    "for f in embeds_shapedna:\n",
    "    v = shapeDNA(f)\n",
    "    X.append(v)\n",
    "    if len(v) < min_d:\n",
    "        min_d = len(v)\n",
    "    meshname = name(f)\n",
    "    y.append(meshname)\n",
    "    y_simple.append(meshname.split('-')[0])\n",
    "\n",
    "# truncate to maximum common spectrum depth\n",
    "X_trunc = [x[:min_d] for x in X]\n",
    "X_trunc = np.array(X_trunc)\n",
    "\n",
    "print(X_trunc.shape)"
   ]
  },
  {
   "cell_type": "code",
   "execution_count": 73,
   "metadata": {},
   "outputs": [],
   "source": [
    "x_tsne, y_tsne = dim_reduction(X_trunc, method='tsne')\n",
    "x_pca, y_pca = dim_reduction(X_trunc, method='pca')"
   ]
  },
  {
   "cell_type": "code",
   "execution_count": 74,
   "metadata": {},
   "outputs": [
    {
     "data": {
      "image/png": "[encoded data removed]",
      "text/plain": [
       "<Figure size 720x720 with 1 Axes>"
      ]
     },
     "metadata": {
      "needs_background": "light"
     },
     "output_type": "display_data"
    }
   ],
   "source": [
    "scatter_annotated(x_tsne, y_tsne, y_simple)"
   ]
  },
  {
   "cell_type": "code",
   "execution_count": 75,
   "metadata": {},
   "outputs": [
    {
     "data": {
      "image/png": "[encoded data removed]",
      "text/plain": [
       "<Figure size 720x720 with 1 Axes>"
      ]
     },
     "metadata": {
      "needs_background": "light"
     },
     "output_type": "display_data"
    }
   ],
   "source": [
    "scatter_annotated(x_pca, y_pca, y_simple)"
   ]
  },
  {
   "cell_type": "markdown",
   "metadata": {},
   "source": [
    "### GPS embeddings"
   ]
  },
  {
   "cell_type": "code",
   "execution_count": null,
   "metadata": {},
   "outputs": [],
   "source": [
    "### TODO but functions are on their way"
   ]
  },
  {
   "cell_type": "code",
   "execution_count": null,
   "metadata": {},
   "outputs": [],
   "source": []
  },
  {
   "cell_type": "code",
   "execution_count": null,
   "metadata": {},
   "outputs": [],
   "source": []
  },
  {
   "cell_type": "code",
   "execution_count": 5,
   "metadata": {},
   "outputs": [
    {
     "name": "stdout",
     "output_type": "stream",
     "text": [
      "(21887, 20)\n"
     ]
    }
   ],
   "source": [
    "gps_test = matrixGPS(embeds[0])\n",
    "print(gps_test.shape)"
   ]
  },
  {
   "cell_type": "code",
   "execution_count": 6,
   "metadata": {},
   "outputs": [
    {
     "name": "stdout",
     "output_type": "stream",
     "text": [
      "21887\n",
      "4\n",
      "0\n"
     ]
    }
   ],
   "source": [
    "regions_test = regions(gps_test)\n",
    "print(len(regions_test))\n",
    "print(max(regions_test))\n",
    "print(min(regions_test))"
   ]
  },
  {
   "cell_type": "code",
   "execution_count": 7,
   "metadata": {},
   "outputs": [],
   "source": [
    "d_test = distances(gps_test, regions_test, 0, 2)"
   ]
  },
  {
   "cell_type": "code",
   "execution_count": 8,
   "metadata": {},
   "outputs": [
    {
     "data": {
      "text/plain": [
       "(1652112,)"
      ]
     },
     "execution_count": 8,
     "metadata": {},
     "output_type": "execute_result"
    }
   ],
   "source": [
    "d_test.shape"
   ]
  },
  {
   "cell_type": "code",
   "execution_count": 9,
   "metadata": {},
   "outputs": [
    {
     "data": {
      "text/plain": [
       "(array([4.56527149e-04, 1.10732117e-02, 1.01960968e-01, 2.03149725e-01,\n",
       "        3.51623038e-01, 1.03879839e+00, 1.81301501e+00, 3.15810912e+00,\n",
       "        1.17648018e+00, 1.69099599e-01]),\n",
       " array([0.42469082, 0.54932058, 0.67395034, 0.7985801 , 0.92320986,\n",
       "        1.04783962, 1.17246938, 1.29709914, 1.4217289 , 1.54635866,\n",
       "        1.67098842]),\n",
       " <a list of 10 Patch objects>)"
      ]
     },
     "execution_count": 9,
     "metadata": {},
     "output_type": "execute_result"
    },
    {
     "data": {
      "image/png": "[encoded data removed]",
      "text/plain": [
       "<Figure size 432x288 with 1 Axes>"
      ]
     },
     "metadata": {
      "needs_background": "light"
     },
     "output_type": "display_data"
    }
   ],
   "source": [
    "plt.hist(d_test, density=True)"
   ]
  },
  {
   "cell_type": "code",
   "execution_count": 10,
   "metadata": {},
   "outputs": [
    {
     "data": {
      "text/plain": [
       "<matplotlib.axes._subplots.AxesSubplot at 0x2779300b048>"
      ]
     },
     "execution_count": 10,
     "metadata": {},
     "output_type": "execute_result"
    },
    {
     "data": {
      "image/png": "[encoded data removed]",
      "text/plain": [
       "<Figure size 432x288 with 1 Axes>"
      ]
     },
     "metadata": {
      "needs_background": "light"
     },
     "output_type": "display_data"
    }
   ],
   "source": [
    "sns.distplot(d_test, hist=False)"
   ]
  },
  {
   "cell_type": "code",
   "execution_count": null,
   "metadata": {},
   "outputs": [],
   "source": []
  }
 ],
 "metadata": {
  "kernelspec": {
   "display_name": "Python 3",
   "language": "python",
   "name": "python3"
  },
  "language_info": {
   "codemirror_mode": {
    "name": "ipython",
    "version": 3
   },
   "file_extension": ".py",
   "mimetype": "text/x-python",
   "name": "python",
   "nbconvert_exporter": "python",
   "pygments_lexer": "ipython3",
   "version": "3.7.4"
  }
 },
 "nbformat": 4,
 "nbformat_minor": 4
}
